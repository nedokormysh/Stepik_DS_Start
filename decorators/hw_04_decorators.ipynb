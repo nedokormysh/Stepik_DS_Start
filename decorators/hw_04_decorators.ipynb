{
  "nbformat": 4,
  "nbformat_minor": 0,
  "metadata": {
    "colab": {
      "provenance": []
    },
    "kernelspec": {
      "name": "python3",
      "display_name": "Python 3"
    },
    "language_info": {
      "name": "python"
    }
  },
  "cells": [
    {
      "cell_type": "markdown",
      "source": [
        "# Домашнее задание: декораторы"
      ],
      "metadata": {
        "id": "QY4qPJPpgyIS"
      }
    },
    {
      "cell_type": "markdown",
      "source": [
        "## Импорт библиотек, установка констант"
      ],
      "metadata": {
        "id": "Chacc6YchldZ"
      }
    },
    {
      "cell_type": "code",
      "source": [
        "import requests\n",
        "import time\n",
        "import re\n",
        "\n",
        "from random import randint"
      ],
      "metadata": {
        "id": "w8iKrWvwhrFd"
      },
      "execution_count": null,
      "outputs": []
    },
    {
      "cell_type": "code",
      "source": [
        "BOOK_PATH = 'https://www.gutenberg.org/files/2638/2638-0.txt'"
      ],
      "metadata": {
        "id": "-LRkS0fSi8Np"
      },
      "execution_count": null,
      "outputs": []
    },
    {
      "cell_type": "markdown",
      "source": [
        "## Задание 1"
      ],
      "metadata": {
        "id": "kARfL8ifg4MH"
      }
    },
    {
      "cell_type": "code",
      "execution_count": null,
      "metadata": {
        "id": "hNHNWPhngrUl"
      },
      "outputs": [],
      "source": [
        "def benchmark(func):\n",
        "    \"\"\"\n",
        "    Декоратор, выводящий время, которое заняло выполнение декорируемой функции\n",
        "    \"\"\"\n",
        "\n",
        "    def wrapper(*args, **kwargs):\n",
        "        start = time.time()\n",
        "        res = func(*args, **kwargs)\n",
        "        end = time.time()\n",
        "        all_time = end - start\n",
        "        print(f'Время выполнения функции {func.__name__} в секундах = {all_time}')\n",
        "        return res\n",
        "\n",
        "    return wrapper"
      ]
    },
    {
      "cell_type": "markdown",
      "source": [
        "## Задание 2"
      ],
      "metadata": {
        "id": "tGlbUKjihL5n"
      }
    },
    {
      "cell_type": "code",
      "source": [
        "def logging(func):\n",
        "    \"\"\"\n",
        "    Декоратор, который выводит параметры с которыми была вызвана функция\n",
        "    \"\"\"\n",
        "\n",
        "    def wrapper(*args, **kwargs):\n",
        "        print(f'Функция вызвана с параметрами:\\n {args, kwargs}\\n')\n",
        "        res = func(*args, **kwargs)\n",
        "        return res\n",
        "\n",
        "    return wrapper"
      ],
      "metadata": {
        "id": "wugOZDLqhNe-"
      },
      "execution_count": null,
      "outputs": []
    },
    {
      "cell_type": "markdown",
      "source": [
        "## Задание 3"
      ],
      "metadata": {
        "id": "Sq1tv5fshTfv"
      }
    },
    {
      "cell_type": "code",
      "source": [
        "def counter(func):\n",
        "    \"\"\"\n",
        "    Декоратор, считающий и выводящий количество вызовов декорируемой функции\n",
        "    \"\"\"\n",
        "\n",
        "    def wrapper(*args, **kwargs):\n",
        "        wrapper.count += 1\n",
        "        res = func(*args, **kwargs)\n",
        "        print(f\"Функция была вызвана: {wrapper.count} раз\\n\")\n",
        "        return res\n",
        "\n",
        "    wrapper.count = 0\n",
        "    return wrapper"
      ],
      "metadata": {
        "id": "9nyvuxXkhVeb"
      },
      "execution_count": null,
      "outputs": []
    },
    {
      "cell_type": "markdown",
      "source": [
        "## Задание 4"
      ],
      "metadata": {
        "id": "uHn8Adfshz5q"
      }
    },
    {
      "cell_type": "code",
      "source": [
        "def memo(func):\n",
        "  \"\"\"\n",
        "  Декоратор, запоминающий результаты исполнения функции func, чьи аргументы args должны быть хешируемыми\n",
        "  \"\"\"\n",
        "  cache = {}\n",
        "\n",
        "  def fmemo(*args):\n",
        "      # hash = tuple(args)\n",
        "      if args not in cache:\n",
        "          cache[args] = func(*args)\n",
        "      return cache[args]\n",
        "  fmemo.cache = cache\n",
        "  return fmemo"
      ],
      "metadata": {
        "id": "D73nfPjlGkkZ"
      },
      "execution_count": null,
      "outputs": []
    },
    {
      "cell_type": "markdown",
      "source": [
        "## Тестирование"
      ],
      "metadata": {
        "id": "Zn5UQCa_izxo"
      }
    },
    {
      "cell_type": "code",
      "source": [
        "@counter\n",
        "@logging\n",
        "@benchmark\n",
        "def word_count(word, url=BOOK_PATH):\n",
        "    \"\"\"\n",
        "    Функция для посчета указанного слова на html-странице\n",
        "    \"\"\"\n",
        "\n",
        "    # отправляем запрос в библиотеку Gutenberg и забираем текст\n",
        "    raw = requests.get(url).text\n",
        "\n",
        "    # заменяем в тексте все небуквенные символы на пробелы\n",
        "    processed_book = re.sub('[\\W]+' , ' ', raw).lower()\n",
        "\n",
        "    # считаем\n",
        "    cnt = len(re.findall(word.lower(), processed_book))\n",
        "\n",
        "    return f\"Cлово {word} встречается {cnt} раз\"\n",
        "\n",
        "print(word_count('whole'))"
      ],
      "metadata": {
        "id": "CHCJ64I8i2QB",
        "colab": {
          "base_uri": "https://localhost:8080/"
        },
        "outputId": "d1b27a83-ef9c-4f4b-a2e6-93de0d60742d"
      },
      "execution_count": null,
      "outputs": [
        {
          "output_type": "stream",
          "name": "stdout",
          "text": [
            "Функция вызвана с параметрами:\n",
            " (('whole',), {})\n",
            "\n",
            "Время выполнения функции word_count в секундах = 1.003023624420166\n",
            "Функция была вызвана: 1 раз\n",
            "\n",
            "Cлово whole встречается 176 раз\n"
          ]
        }
      ]
    },
    {
      "cell_type": "code",
      "source": [
        "def fib(n):\n",
        "    if n < 2:\n",
        "        return n\n",
        "    return fib(n-2) + fib(n-1)"
      ],
      "metadata": {
        "id": "ZE4Rfn-hh3k3"
      },
      "execution_count": null,
      "outputs": []
    },
    {
      "cell_type": "code",
      "source": [
        "%%timeit\n",
        "fib(3)"
      ],
      "metadata": {
        "colab": {
          "base_uri": "https://localhost:8080/"
        },
        "id": "RWD7zj7SPCNC",
        "outputId": "dc02358d-8fc5-4da1-cd4b-d79ebb14e8da"
      },
      "execution_count": null,
      "outputs": [
        {
          "output_type": "stream",
          "name": "stdout",
          "text": [
            "724 ns ± 237 ns per loop (mean ± std. dev. of 7 runs, 1000000 loops each)\n"
          ]
        }
      ]
    },
    {
      "cell_type": "code",
      "source": [
        "%%timeit\n",
        "fib(40)"
      ],
      "metadata": {
        "colab": {
          "base_uri": "https://localhost:8080/"
        },
        "id": "ZgI-JqLXHecK",
        "outputId": "59b62917-7bc9-4cac-d484-5db3f93ad483"
      },
      "execution_count": null,
      "outputs": [
        {
          "output_type": "stream",
          "name": "stdout",
          "text": [
            "45.4 s ± 684 ms per loop (mean ± std. dev. of 7 runs, 1 loop each)\n"
          ]
        }
      ]
    },
    {
      "cell_type": "code",
      "source": [
        "# измеряем время выполнения\n",
        "@benchmark\n",
        "def fib(n):\n",
        "    if n < 2:\n",
        "        return n\n",
        "    return fib(n-2) + fib(n-1)\n",
        "fib(3)"
      ],
      "metadata": {
        "id": "Io94NyjiiXG4",
        "colab": {
          "base_uri": "https://localhost:8080/"
        },
        "outputId": "32944090-3922-4b8b-8a44-8907627caa1a"
      },
      "execution_count": null,
      "outputs": [
        {
          "output_type": "stream",
          "name": "stdout",
          "text": [
            "Время выполнения функции fib в секундах = 7.152557373046875e-07\n",
            "Время выполнения функции fib в секундах = 1.1920928955078125e-06\n",
            "Время выполнения функции fib в секундах = 1.1920928955078125e-06\n",
            "Время выполнения функции fib в секундах = 0.0007627010345458984\n",
            "Время выполнения функции fib в секундах = 0.0016026496887207031\n"
          ]
        },
        {
          "output_type": "execute_result",
          "data": {
            "text/plain": [
              "2"
            ]
          },
          "metadata": {},
          "execution_count": 188
        }
      ]
    },
    {
      "cell_type": "code",
      "source": [
        "@memo\n",
        "def memo_fib(n):\n",
        "    if n < 2:\n",
        "        return n\n",
        "    return memo_fib(n-2) + memo_fib(n-1)"
      ],
      "metadata": {
        "id": "W9B3e-t9iTUj"
      },
      "execution_count": null,
      "outputs": []
    },
    {
      "cell_type": "code",
      "source": [
        "%%time\n",
        "memo_fib(3)"
      ],
      "metadata": {
        "colab": {
          "base_uri": "https://localhost:8080/"
        },
        "id": "HeadXHMNO6Yj",
        "outputId": "f9646a83-6920-4026-9c6e-6ca16c4d7184"
      },
      "execution_count": null,
      "outputs": [
        {
          "output_type": "stream",
          "name": "stdout",
          "text": [
            "CPU times: user 8 µs, sys: 0 ns, total: 8 µs\n",
            "Wall time: 11.2 µs\n"
          ]
        },
        {
          "output_type": "execute_result",
          "data": {
            "text/plain": [
              "2"
            ]
          },
          "metadata": {},
          "execution_count": 190
        }
      ]
    },
    {
      "cell_type": "code",
      "source": [
        "%%time\n",
        "memo_fib(40)"
      ],
      "metadata": {
        "colab": {
          "base_uri": "https://localhost:8080/"
        },
        "id": "KLNNfIm8H81Z",
        "outputId": "4332f750-ab12-4284-8ebd-deb4304ec429"
      },
      "execution_count": null,
      "outputs": [
        {
          "output_type": "stream",
          "name": "stdout",
          "text": [
            "CPU times: user 49 µs, sys: 1 µs, total: 50 µs\n",
            "Wall time: 51.7 µs\n"
          ]
        },
        {
          "output_type": "execute_result",
          "data": {
            "text/plain": [
              "102334155"
            ]
          },
          "metadata": {},
          "execution_count": 191
        }
      ]
    },
    {
      "cell_type": "code",
      "source": [
        "# измеряем время выполнения\n",
        "@benchmark\n",
        "@memo\n",
        "def fib(n):\n",
        "    if n < 2:\n",
        "        return n\n",
        "    return fib(n-2) + fib(n-1)\n",
        "\n",
        "print(fib(3))"
      ],
      "metadata": {
        "id": "Sk6_4KQaidkh",
        "colab": {
          "base_uri": "https://localhost:8080/"
        },
        "outputId": "b85c21d6-8461-4804-d40d-a6272a92c203"
      },
      "execution_count": null,
      "outputs": [
        {
          "output_type": "stream",
          "name": "stdout",
          "text": [
            "Время выполнения функции fmemo в секундах = 1.1920928955078125e-06\n",
            "Время выполнения функции fmemo в секундах = 1.430511474609375e-06\n",
            "Время выполнения функции fmemo в секундах = 9.5367431640625e-07\n",
            "Время выполнения функции fmemo в секундах = 6.198883056640625e-05\n",
            "Время выполнения функции fmemo в секундах = 0.0001590251922607422\n",
            "2\n"
          ]
        }
      ]
    },
    {
      "cell_type": "code",
      "source": [
        "memo_fib.__closure__[0].cell_contents"
      ],
      "metadata": {
        "colab": {
          "base_uri": "https://localhost:8080/"
        },
        "id": "KJrBKYtVQbBx",
        "outputId": "1cfaaa66-b2ce-4d39-d9c8-0d2dba1c90fc"
      },
      "execution_count": null,
      "outputs": [
        {
          "output_type": "execute_result",
          "data": {
            "text/plain": [
              "{(1,): 1,\n",
              " (0,): 0,\n",
              " (2,): 1,\n",
              " (3,): 2,\n",
              " (4,): 3,\n",
              " (5,): 5,\n",
              " (6,): 8,\n",
              " (7,): 13,\n",
              " (8,): 21,\n",
              " (9,): 34,\n",
              " (10,): 55,\n",
              " (11,): 89,\n",
              " (12,): 144,\n",
              " (13,): 233,\n",
              " (14,): 377,\n",
              " (15,): 610,\n",
              " (16,): 987,\n",
              " (17,): 1597,\n",
              " (18,): 2584,\n",
              " (19,): 4181,\n",
              " (20,): 6765,\n",
              " (21,): 10946,\n",
              " (22,): 17711,\n",
              " (23,): 28657,\n",
              " (24,): 46368,\n",
              " (25,): 75025,\n",
              " (26,): 121393,\n",
              " (27,): 196418,\n",
              " (28,): 317811,\n",
              " (29,): 514229,\n",
              " (30,): 832040,\n",
              " (31,): 1346269,\n",
              " (32,): 2178309,\n",
              " (33,): 3524578,\n",
              " (34,): 5702887,\n",
              " (35,): 9227465,\n",
              " (36,): 14930352,\n",
              " (37,): 24157817,\n",
              " (38,): 39088169,\n",
              " (39,): 63245986,\n",
              " (40,): 102334155}"
            ]
          },
          "metadata": {},
          "execution_count": 193
        }
      ]
    },
    {
      "cell_type": "markdown",
      "source": [
        "В моих тестах мемоизированная функция при малых числах на входе проигрывала по времени работы немемоизированной. Нано секунды на малых числах простой функции и микросекунды мемоизированной. (Возможно мы ещё сохраняем значения и на расходуем время).\n",
        "\n",
        "При подаче бОльших чисел в параметры функции получил существенный выигрыш по времени работы. Время вычисления обычной функции уже давало секунды, а мемоизированная функция давала время работы в микросекунды.\n",
        "\n",
        "(не совсем разобрался можно ли измерять время функций, если применять @benchmark)"
      ],
      "metadata": {
        "id": "AxoEnPSWOK4D"
      }
    }
  ]
}